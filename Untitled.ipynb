{
 "cells": [
  {
   "cell_type": "code",
   "execution_count": 1,
   "metadata": {},
   "outputs": [
    {
     "data": {
      "application/vnd.jupyter.widget-view+json": {
       "model_id": "9936d1755e1f4be69189e72a7cb8a032",
       "version_major": 2,
       "version_minor": 0
      },
      "text/plain": [
       "VBox()"
      ]
     },
     "metadata": {},
     "output_type": "display_data"
    },
    {
     "name": "stdout",
     "output_type": "stream",
     "text": [
      "Starting Spark application\n"
     ]
    },
    {
     "data": {
      "text/html": [
       "<table>\n",
       "<tr><th>ID</th><th>YARN Application ID</th><th>Kind</th><th>State</th><th>Spark UI</th><th>Driver log</th><th>Current session?</th></tr><tr><td>3</td><td>application_1574791769867_0004</td><td>pyspark</td><td>idle</td><td><a target=\"_blank\" href=\"http://ip-172-31-0-105.us-east-2.compute.internal:20888/proxy/application_1574791769867_0004/\">Link</a></td><td><a target=\"_blank\" href=\"http://ip-172-31-9-218.us-east-2.compute.internal:8042/node/containerlogs/container_1574791769867_0004_01_000001/livy\">Link</a></td><td>✔</td></tr></table>"
      ],
      "text/plain": [
       "<IPython.core.display.HTML object>"
      ]
     },
     "metadata": {},
     "output_type": "display_data"
    },
    {
     "data": {
      "application/vnd.jupyter.widget-view+json": {
       "model_id": "",
       "version_major": 2,
       "version_minor": 0
      },
      "text/plain": [
       "FloatProgress(value=0.0, bar_style='info', description='Progress:', layout=Layout(height='25px', width='50%'),…"
      ]
     },
     "metadata": {},
     "output_type": "display_data"
    },
    {
     "name": "stdout",
     "output_type": "stream",
     "text": [
      "SparkSession available as 'spark'.\n"
     ]
    },
    {
     "data": {
      "application/vnd.jupyter.widget-view+json": {
       "model_id": "",
       "version_major": 2,
       "version_minor": 0
      },
      "text/plain": [
       "FloatProgress(value=0.0, bar_style='info', description='Progress:', layout=Layout(height='25px', width='50%'),…"
      ]
     },
     "metadata": {},
     "output_type": "display_data"
    }
   ],
   "source": [
    "import pyspark\n",
    "from pyspark import SparkContext\n",
    "import numpy as np\n",
    "from datetime import datetime\n",
    "\n",
    "original_data_source = \"s3://pgarias-bucket-cloud/311_Service_Requests_from_2015_to_Present.csv\"\n",
    "original_data_reader = lambda spark: spark.read.csv(original_data_source, mode=\"DROPMALFORMED\",inferSchema=True, header = True)\n",
    "original_data = original_data_reader(spark)"
   ]
  },
  {
   "cell_type": "code",
   "execution_count": 2,
   "metadata": {},
   "outputs": [
    {
     "data": {
      "application/vnd.jupyter.widget-view+json": {
       "model_id": "e2022a419c32414fae862ee69bb0b025",
       "version_major": 2,
       "version_minor": 0
      },
      "text/plain": [
       "VBox()"
      ]
     },
     "metadata": {},
     "output_type": "display_data"
    },
    {
     "data": {
      "application/vnd.jupyter.widget-view+json": {
       "model_id": "",
       "version_major": 2,
       "version_minor": 0
      },
      "text/plain": [
       "FloatProgress(value=0.0, bar_style='info', description='Progress:', layout=Layout(height='25px', width='50%'),…"
      ]
     },
     "metadata": {},
     "output_type": "display_data"
    },
    {
     "name": "stdout",
     "output_type": "stream",
     "text": [
      "root\n",
      " |-- Unique Key: integer (nullable = true)\n",
      " |-- Created Date: string (nullable = true)\n",
      " |-- Closed Date: string (nullable = true)\n",
      " |-- Agency: string (nullable = true)\n",
      " |-- Agency Name: string (nullable = true)\n",
      " |-- Complaint Type: string (nullable = true)\n",
      " |-- Descriptor: string (nullable = true)\n",
      " |-- Location Type: string (nullable = true)\n",
      " |-- Incident Zip: string (nullable = true)\n",
      " |-- Incident Address: string (nullable = true)\n",
      " |-- Street Name: string (nullable = true)\n",
      " |-- Cross Street 1: string (nullable = true)\n",
      " |-- Cross Street 2: string (nullable = true)\n",
      " |-- Intersection Street 1: string (nullable = true)\n",
      " |-- Intersection Street 2: string (nullable = true)\n",
      " |-- Address Type: string (nullable = true)\n",
      " |-- City: string (nullable = true)\n",
      " |-- Landmark: string (nullable = true)\n",
      " |-- Facility Type: string (nullable = true)\n",
      " |-- Status: string (nullable = true)\n",
      " |-- Due Date: string (nullable = true)\n",
      " |-- Resolution Description: string (nullable = true)\n",
      " |-- Resolution Action Updated Date: string (nullable = true)\n",
      " |-- Community Board: string (nullable = true)\n",
      " |-- BBL: string (nullable = true)\n",
      " |-- Borough: string (nullable = true)\n",
      " |-- X Coordinate (State Plane): long (nullable = true)\n",
      " |-- Y Coordinate (State Plane): string (nullable = true)\n",
      " |-- Open Data Channel Type: string (nullable = true)\n",
      " |-- Park Facility Name: string (nullable = true)\n",
      " |-- Park Borough: string (nullable = true)\n",
      " |-- Vehicle Type: string (nullable = true)\n",
      " |-- Taxi Company Borough: string (nullable = true)\n",
      " |-- Taxi Pick Up Location: string (nullable = true)\n",
      " |-- Bridge Highway Name: string (nullable = true)\n",
      " |-- Bridge Highway Direction: string (nullable = true)\n",
      " |-- Road Ramp: string (nullable = true)\n",
      " |-- Bridge Highway Segment: string (nullable = true)\n",
      " |-- Latitude: double (nullable = true)\n",
      " |-- Longitude: double (nullable = true)\n",
      " |-- Location: string (nullable = true)"
     ]
    }
   ],
   "source": [
    "showCatagories = lambda x: x.printSchema()\n",
    "showCatagories(original_data)"
   ]
  },
  {
   "cell_type": "code",
   "execution_count": 3,
   "metadata": {},
   "outputs": [
    {
     "data": {
      "application/vnd.jupyter.widget-view+json": {
       "model_id": "b81b9184087e4bad95ee70131e60ac52",
       "version_major": 2,
       "version_minor": 0
      },
      "text/plain": [
       "VBox()"
      ]
     },
     "metadata": {},
     "output_type": "display_data"
    },
    {
     "data": {
      "application/vnd.jupyter.widget-view+json": {
       "model_id": "",
       "version_major": 2,
       "version_minor": 0
      },
      "text/plain": [
       "FloatProgress(value=0.0, bar_style='info', description='Progress:', layout=Layout(height='25px', width='50%'),…"
      ]
     },
     "metadata": {},
     "output_type": "display_data"
    },
    {
     "name": "stdout",
     "output_type": "stream",
     "text": [
      "+--------------------+\n",
      "|        Created Date|\n",
      "+--------------------+\n",
      "|01/01/2015 12:00:...|\n",
      "|01/01/2015 12:01:...|\n",
      "|01/01/2015 12:01:...|\n",
      "|01/01/2015 12:04:...|\n",
      "|01/01/2015 12:04:...|\n",
      "+--------------------+\n",
      "only showing top 5 rows"
     ]
    }
   ],
   "source": [
    "original_data.select('Created Date').show(n=5)"
   ]
  },
  {
   "cell_type": "code",
   "execution_count": 4,
   "metadata": {},
   "outputs": [
    {
     "data": {
      "application/vnd.jupyter.widget-view+json": {
       "model_id": "bb1fa307f46b49e892b8400151898af8",
       "version_major": 2,
       "version_minor": 0
      },
      "text/plain": [
       "VBox()"
      ]
     },
     "metadata": {},
     "output_type": "display_data"
    },
    {
     "data": {
      "application/vnd.jupyter.widget-view+json": {
       "model_id": "",
       "version_major": 2,
       "version_minor": 0
      },
      "text/plain": [
       "FloatProgress(value=0.0, bar_style='info', description='Progress:', layout=Layout(height='25px', width='50%'),…"
      ]
     },
     "metadata": {},
     "output_type": "display_data"
    }
   ],
   "source": [
    "df_1 = original_data"
   ]
  },
  {
   "cell_type": "code",
   "execution_count": 5,
   "metadata": {},
   "outputs": [
    {
     "data": {
      "application/vnd.jupyter.widget-view+json": {
       "model_id": "a1da82d39fd245b8a0295f9a64398a9a",
       "version_major": 2,
       "version_minor": 0
      },
      "text/plain": [
       "VBox()"
      ]
     },
     "metadata": {},
     "output_type": "display_data"
    },
    {
     "data": {
      "application/vnd.jupyter.widget-view+json": {
       "model_id": "",
       "version_major": 2,
       "version_minor": 0
      },
      "text/plain": [
       "FloatProgress(value=0.0, bar_style='info', description='Progress:', layout=Layout(height='25px', width='50%'),…"
      ]
     },
     "metadata": {},
     "output_type": "display_data"
    }
   ],
   "source": [
    "def conv_date(strobj):\n",
    "    try:\n",
    "        return datetime.strptime(strobj, '%m/%d/%Y %I:%M:%S %p')\n",
    "    except:\n",
    "        return np.nan"
   ]
  },
  {
   "cell_type": "code",
   "execution_count": 6,
   "metadata": {},
   "outputs": [
    {
     "data": {
      "application/vnd.jupyter.widget-view+json": {
       "model_id": "601a419a8dad447ab16147fbdf5957b7",
       "version_major": 2,
       "version_minor": 0
      },
      "text/plain": [
       "VBox()"
      ]
     },
     "metadata": {},
     "output_type": "display_data"
    },
    {
     "data": {
      "application/vnd.jupyter.widget-view+json": {
       "model_id": "",
       "version_major": 2,
       "version_minor": 0
      },
      "text/plain": [
       "FloatProgress(value=0.0, bar_style='info', description='Progress:', layout=Layout(height='25px', width='50%'),…"
      ]
     },
     "metadata": {},
     "output_type": "display_data"
    },
    {
     "name": "stdout",
     "output_type": "stream",
     "text": [
      "+--------------------+-----+\n",
      "|          Descriptor|count|\n",
      "+--------------------+-----+\n",
      "|Plate Condition -...| 5253|\n",
      "|    Lamppost Damaged| 2834|\n",
      "|BBQ Outside Autho...| 1217|\n",
      "|Hydrant Running F...|39093|\n",
      "|       Miscellaneous| 5032|\n",
      "|   Glassware Hanging|  843|\n",
      "|Personal Veteran ...| 3040|\n",
      "|          High Grass|  312|\n",
      "|E10 Street Obstru...| 3955|\n",
      "|ER9 FOAM VIOL. RE...|   24|\n",
      "|            Tortured| 4003|\n",
      "|         Broken Curb|12126|\n",
      "|List of Outstandi...|  323|\n",
      "| Fire Alarm Lamp Out|   88|\n",
      "|Illegal Activity ...|  107|\n",
      "|Tax Commission Rules|   17|\n",
      "|     Personal Injury|    1|\n",
      "|Oil Spill Into Ba...|  235|\n",
      "|      Ethernet Cable|    1|\n",
      "|E11 Litter Survei...| 4737|\n",
      "+--------------------+-----+\n",
      "only showing top 20 rows"
     ]
    }
   ],
   "source": [
    "dG = lambda x: x.groupby(\"Descriptor\").count()\n",
    "descriptor_frame = dG(df_1).show()"
   ]
  },
  {
   "cell_type": "code",
   "execution_count": 7,
   "metadata": {},
   "outputs": [
    {
     "data": {
      "application/vnd.jupyter.widget-view+json": {
       "model_id": "48497480a3ce4bd28eba8820c6ae8dc6",
       "version_major": 2,
       "version_minor": 0
      },
      "text/plain": [
       "VBox()"
      ]
     },
     "metadata": {},
     "output_type": "display_data"
    },
    {
     "data": {
      "application/vnd.jupyter.widget-view+json": {
       "model_id": "",
       "version_major": 2,
       "version_minor": 0
      },
      "text/plain": [
       "FloatProgress(value=0.0, bar_style='info', description='Progress:', layout=Layout(height='25px', width='50%'),…"
      ]
     },
     "metadata": {},
     "output_type": "display_data"
    }
   ],
   "source": [
    "df_2 = df_1.drop('Unique Key', 'Agency Name', 'Incident Address', 'Street Name', 'Cross Street 1', 'Cross Street 2', 'Intersection Street 1', 'Intersection Street 2', 'Landmark', 'Resolution Description', 'Resolution Action Updated Date')"
   ]
  },
  {
   "cell_type": "code",
   "execution_count": 8,
   "metadata": {},
   "outputs": [
    {
     "data": {
      "application/vnd.jupyter.widget-view+json": {
       "model_id": "a8c7d08fbd7e44c9a9498140da32ddef",
       "version_major": 2,
       "version_minor": 0
      },
      "text/plain": [
       "VBox()"
      ]
     },
     "metadata": {},
     "output_type": "display_data"
    },
    {
     "data": {
      "application/vnd.jupyter.widget-view+json": {
       "model_id": "",
       "version_major": 2,
       "version_minor": 0
      },
      "text/plain": [
       "FloatProgress(value=0.0, bar_style='info', description='Progress:', layout=Layout(height='25px', width='50%'),…"
      ]
     },
     "metadata": {},
     "output_type": "display_data"
    },
    {
     "name": "stdout",
     "output_type": "stream",
     "text": [
      "root\n",
      " |-- Created Date: string (nullable = true)\n",
      " |-- Closed Date: string (nullable = true)\n",
      " |-- Agency: string (nullable = true)\n",
      " |-- Complaint Type: string (nullable = true)\n",
      " |-- Descriptor: string (nullable = true)\n",
      " |-- Location Type: string (nullable = true)\n",
      " |-- Incident Zip: string (nullable = true)\n",
      " |-- Address Type: string (nullable = true)\n",
      " |-- City: string (nullable = true)\n",
      " |-- Facility Type: string (nullable = true)\n",
      " |-- Status: string (nullable = true)\n",
      " |-- Due Date: string (nullable = true)\n",
      " |-- Community Board: string (nullable = true)\n",
      " |-- BBL: string (nullable = true)\n",
      " |-- Borough: string (nullable = true)\n",
      " |-- X Coordinate (State Plane): long (nullable = true)\n",
      " |-- Y Coordinate (State Plane): string (nullable = true)\n",
      " |-- Open Data Channel Type: string (nullable = true)\n",
      " |-- Park Facility Name: string (nullable = true)\n",
      " |-- Park Borough: string (nullable = true)\n",
      " |-- Vehicle Type: string (nullable = true)\n",
      " |-- Taxi Company Borough: string (nullable = true)\n",
      " |-- Taxi Pick Up Location: string (nullable = true)\n",
      " |-- Bridge Highway Name: string (nullable = true)\n",
      " |-- Bridge Highway Direction: string (nullable = true)\n",
      " |-- Road Ramp: string (nullable = true)\n",
      " |-- Bridge Highway Segment: string (nullable = true)\n",
      " |-- Latitude: double (nullable = true)\n",
      " |-- Longitude: double (nullable = true)\n",
      " |-- Location: string (nullable = true)"
     ]
    }
   ],
   "source": [
    "df_2.printSchema()"
   ]
  },
  {
   "cell_type": "code",
   "execution_count": 9,
   "metadata": {},
   "outputs": [
    {
     "data": {
      "application/vnd.jupyter.widget-view+json": {
       "model_id": "e25d8aaa3cb74edb8fb2a38dace5e3d9",
       "version_major": 2,
       "version_minor": 0
      },
      "text/plain": [
       "VBox()"
      ]
     },
     "metadata": {},
     "output_type": "display_data"
    },
    {
     "data": {
      "application/vnd.jupyter.widget-view+json": {
       "model_id": "",
       "version_major": 2,
       "version_minor": 0
      },
      "text/plain": [
       "FloatProgress(value=0.0, bar_style='info', description='Progress:', layout=Layout(height='25px', width='50%'),…"
      ]
     },
     "metadata": {},
     "output_type": "display_data"
    }
   ],
   "source": [
    "df_3 = df_2.drop('BBL', 'X Coordinate', 'Y Coordinate', 'Park Facility Name', 'Park Borough', 'Vehicle Type', 'Taxi Company Borough', 'Taxi Pick Up Location', 'Bridge Highway Name', 'Bright Highway Direction', 'Road Ramp', 'Bridge Highway Segment', 'Latitude', 'Longitude', 'Location')"
   ]
  },
  {
   "cell_type": "code",
   "execution_count": 10,
   "metadata": {},
   "outputs": [
    {
     "data": {
      "application/vnd.jupyter.widget-view+json": {
       "model_id": "fcdb70de5acc4368a5d2f7595168c189",
       "version_major": 2,
       "version_minor": 0
      },
      "text/plain": [
       "VBox()"
      ]
     },
     "metadata": {},
     "output_type": "display_data"
    },
    {
     "data": {
      "application/vnd.jupyter.widget-view+json": {
       "model_id": "",
       "version_major": 2,
       "version_minor": 0
      },
      "text/plain": [
       "FloatProgress(value=0.0, bar_style='info', description='Progress:', layout=Layout(height='25px', width='50%'),…"
      ]
     },
     "metadata": {},
     "output_type": "display_data"
    },
    {
     "name": "stdout",
     "output_type": "stream",
     "text": [
      "root\n",
      " |-- Created Date: string (nullable = true)\n",
      " |-- Closed Date: string (nullable = true)\n",
      " |-- Agency: string (nullable = true)\n",
      " |-- Complaint Type: string (nullable = true)\n",
      " |-- Descriptor: string (nullable = true)\n",
      " |-- Location Type: string (nullable = true)\n",
      " |-- Incident Zip: string (nullable = true)\n",
      " |-- Address Type: string (nullable = true)\n",
      " |-- City: string (nullable = true)\n",
      " |-- Facility Type: string (nullable = true)\n",
      " |-- Status: string (nullable = true)\n",
      " |-- Due Date: string (nullable = true)\n",
      " |-- Community Board: string (nullable = true)\n",
      " |-- Borough: string (nullable = true)\n",
      " |-- X Coordinate (State Plane): long (nullable = true)\n",
      " |-- Y Coordinate (State Plane): string (nullable = true)\n",
      " |-- Open Data Channel Type: string (nullable = true)\n",
      " |-- Bridge Highway Direction: string (nullable = true)"
     ]
    }
   ],
   "source": [
    "df_3.printSchema()"
   ]
  },
  {
   "cell_type": "code",
   "execution_count": 11,
   "metadata": {},
   "outputs": [
    {
     "data": {
      "application/vnd.jupyter.widget-view+json": {
       "model_id": "f6b98c2bdaaa450f83fec06c5b50785b",
       "version_major": 2,
       "version_minor": 0
      },
      "text/plain": [
       "VBox()"
      ]
     },
     "metadata": {},
     "output_type": "display_data"
    },
    {
     "data": {
      "application/vnd.jupyter.widget-view+json": {
       "model_id": "",
       "version_major": 2,
       "version_minor": 0
      },
      "text/plain": [
       "FloatProgress(value=0.0, bar_style='info', description='Progress:', layout=Layout(height='25px', width='50%'),…"
      ]
     },
     "metadata": {},
     "output_type": "display_data"
    }
   ],
   "source": [
    "df_4 = df_3.drop('X Coordinate (State Plane)', 'Y Coordinate (State Plane)', 'Bridge Highway Direction')"
   ]
  },
  {
   "cell_type": "code",
   "execution_count": 12,
   "metadata": {},
   "outputs": [
    {
     "data": {
      "application/vnd.jupyter.widget-view+json": {
       "model_id": "10d2501b0b8e4268bed8ef6ad9f62a49",
       "version_major": 2,
       "version_minor": 0
      },
      "text/plain": [
       "VBox()"
      ]
     },
     "metadata": {},
     "output_type": "display_data"
    },
    {
     "data": {
      "application/vnd.jupyter.widget-view+json": {
       "model_id": "",
       "version_major": 2,
       "version_minor": 0
      },
      "text/plain": [
       "FloatProgress(value=0.0, bar_style='info', description='Progress:', layout=Layout(height='25px', width='50%'),…"
      ]
     },
     "metadata": {},
     "output_type": "display_data"
    },
    {
     "name": "stdout",
     "output_type": "stream",
     "text": [
      "root\n",
      " |-- Created Date: string (nullable = true)\n",
      " |-- Closed Date: string (nullable = true)\n",
      " |-- Agency: string (nullable = true)\n",
      " |-- Complaint Type: string (nullable = true)\n",
      " |-- Descriptor: string (nullable = true)\n",
      " |-- Location Type: string (nullable = true)\n",
      " |-- Incident Zip: string (nullable = true)\n",
      " |-- Address Type: string (nullable = true)\n",
      " |-- City: string (nullable = true)\n",
      " |-- Facility Type: string (nullable = true)\n",
      " |-- Status: string (nullable = true)\n",
      " |-- Due Date: string (nullable = true)\n",
      " |-- Community Board: string (nullable = true)\n",
      " |-- Borough: string (nullable = true)\n",
      " |-- Open Data Channel Type: string (nullable = true)"
     ]
    }
   ],
   "source": [
    "df_4.printSchema()"
   ]
  },
  {
   "cell_type": "code",
   "execution_count": 13,
   "metadata": {},
   "outputs": [
    {
     "data": {
      "application/vnd.jupyter.widget-view+json": {
       "model_id": "450e517701ac48fca6a0af5cab29095c",
       "version_major": 2,
       "version_minor": 0
      },
      "text/plain": [
       "VBox()"
      ]
     },
     "metadata": {},
     "output_type": "display_data"
    },
    {
     "data": {
      "application/vnd.jupyter.widget-view+json": {
       "model_id": "",
       "version_major": 2,
       "version_minor": 0
      },
      "text/plain": [
       "FloatProgress(value=0.0, bar_style='info', description='Progress:', layout=Layout(height='25px', width='50%'),…"
      ]
     },
     "metadata": {},
     "output_type": "display_data"
    }
   ],
   "source": [
    "dropEmpty = lambda x: x.dropna()\n",
    "df_5 = dropEmpty(df_4)"
   ]
  },
  {
   "cell_type": "code",
   "execution_count": 14,
   "metadata": {},
   "outputs": [
    {
     "data": {
      "application/vnd.jupyter.widget-view+json": {
       "model_id": "277fc9cc16854bbe89ac76f0231aecfa",
       "version_major": 2,
       "version_minor": 0
      },
      "text/plain": [
       "VBox()"
      ]
     },
     "metadata": {},
     "output_type": "display_data"
    },
    {
     "data": {
      "application/vnd.jupyter.widget-view+json": {
       "model_id": "",
       "version_major": 2,
       "version_minor": 0
      },
      "text/plain": [
       "FloatProgress(value=0.0, bar_style='info', description='Progress:', layout=Layout(height='25px', width='50%'),…"
      ]
     },
     "metadata": {},
     "output_type": "display_data"
    },
    {
     "name": "stdout",
     "output_type": "stream",
     "text": [
      "root\n",
      " |-- Created Date: string (nullable = true)\n",
      " |-- Closed Date: string (nullable = true)\n",
      " |-- Agency: string (nullable = true)\n",
      " |-- Complaint Type: string (nullable = true)\n",
      " |-- Descriptor: string (nullable = true)\n",
      " |-- Location Type: string (nullable = true)\n",
      " |-- Incident Zip: string (nullable = true)\n",
      " |-- Address Type: string (nullable = true)\n",
      " |-- City: string (nullable = true)\n",
      " |-- Facility Type: string (nullable = true)\n",
      " |-- Status: string (nullable = true)\n",
      " |-- Due Date: string (nullable = true)\n",
      " |-- Community Board: string (nullable = true)\n",
      " |-- Borough: string (nullable = true)\n",
      " |-- Open Data Channel Type: string (nullable = true)"
     ]
    }
   ],
   "source": [
    "df_5.printSchema()"
   ]
  },
  {
   "cell_type": "code",
   "execution_count": 15,
   "metadata": {},
   "outputs": [
    {
     "data": {
      "application/vnd.jupyter.widget-view+json": {
       "model_id": "fa141359ff8c4b24b82f94e6dc5f6a77",
       "version_major": 2,
       "version_minor": 0
      },
      "text/plain": [
       "VBox()"
      ]
     },
     "metadata": {},
     "output_type": "display_data"
    },
    {
     "data": {
      "application/vnd.jupyter.widget-view+json": {
       "model_id": "",
       "version_major": 2,
       "version_minor": 0
      },
      "text/plain": [
       "FloatProgress(value=0.0, bar_style='info', description='Progress:', layout=Layout(height='25px', width='50%'),…"
      ]
     },
     "metadata": {},
     "output_type": "display_data"
    },
    {
     "name": "stdout",
     "output_type": "stream",
     "text": [
      "+--------------------+--------------------+------+--------------------+----------------+--------------------+------------+------------+----------------+-------------+------+--------------------+---------------+---------+----------------------+\n",
      "|        Created Date|         Closed Date|Agency|      Complaint Type|      Descriptor|       Location Type|Incident Zip|Address Type|            City|Facility Type|Status|            Due Date|Community Board|  Borough|Open Data Channel Type|\n",
      "+--------------------+--------------------+------+--------------------+----------------+--------------------+------------+------------+----------------+-------------+------+--------------------+---------------+---------+----------------------+\n",
      "|01/01/2015 12:00:...|01/01/2015 02:47:...|  NYPD|    Blocked Driveway|       No Access|     Street/Sidewalk|       11420|     ADDRESS|SOUTH OZONE PARK|     Precinct|Closed|01/01/2015 08:00:...|      10 QUEENS|   QUEENS|                 PHONE|\n",
      "|01/01/2015 12:01:...|01/01/2015 02:42:...|  NYPD|    Blocked Driveway|       No Access|     Street/Sidewalk|       10466|     ADDRESS|           BRONX|     Precinct|Closed|01/01/2015 08:01:...|       12 BRONX|    BRONX|                 PHONE|\n",
      "|01/01/2015 12:01:...|01/01/2015 12:20:...|  NYPD|Noise - Street/Si...|Loud Music/Party|     Street/Sidewalk|       10031|     ADDRESS|        NEW YORK|     Precinct|Closed|01/01/2015 08:01:...|   09 MANHATTAN|MANHATTAN|                ONLINE|\n",
      "|01/01/2015 12:04:...|01/01/2015 02:25:...|  NYPD|     Noise - Vehicle|  Car/Truck Horn|     Street/Sidewalk|       10468|     ADDRESS|           BRONX|     Precinct|Closed|01/01/2015 08:04:...|       07 BRONX|    BRONX|                ONLINE|\n",
      "|01/01/2015 12:04:...|01/01/2015 10:22:...|  NYPD|     Illegal Parking| Blocked Hydrant|     Street/Sidewalk|       11421|     ADDRESS|       WOODHAVEN|     Precinct|Closed|01/01/2015 08:04:...|      09 QUEENS|   QUEENS|                 PHONE|\n",
      "|01/01/2015 12:04:...|01/01/2015 01:03:...|  NYPD| Noise - Residential|Loud Music/Party|Residential Build...|       11375|     ADDRESS|    FOREST HILLS|     Precinct|Closed|01/01/2015 08:04:...|      06 QUEENS|   QUEENS|                 PHONE|\n",
      "|01/01/2015 12:05:...|01/01/2015 01:22:...|  NYPD|Noise - Street/Si...|Loud Music/Party|     Street/Sidewalk|       10002|INTERSECTION|        NEW YORK|     Precinct|Closed|01/01/2015 08:05:...|   03 MANHATTAN|MANHATTAN|                 PHONE|\n",
      "|01/01/2015 12:05:...|01/01/2015 01:13:...|  NYPD| Noise - Residential|Loud Music/Party|Residential Build...|       11216|     ADDRESS|        BROOKLYN|     Precinct|Closed|01/01/2015 08:05:...|    03 BROOKLYN| BROOKLYN|                ONLINE|\n",
      "|01/01/2015 12:06:...|01/01/2015 12:43:...|  NYPD|Noise - Street/Si...|Loud Music/Party|     Street/Sidewalk|       10453|INTERSECTION|           BRONX|     Precinct|Closed|01/01/2015 08:06:...|       05 BRONX|    BRONX|                 PHONE|\n",
      "|01/01/2015 12:06:...|01/01/2015 06:05:...|  NYPD|    Blocked Driveway|       No Access|     Street/Sidewalk|       10473|     ADDRESS|           BRONX|     Precinct|Closed|01/01/2015 08:06:...|       09 BRONX|    BRONX|                 PHONE|\n",
      "+--------------------+--------------------+------+--------------------+----------------+--------------------+------------+------------+----------------+-------------+------+--------------------+---------------+---------+----------------------+\n",
      "only showing top 10 rows"
     ]
    }
   ],
   "source": [
    "df_5.show(n=10)"
   ]
  },
  {
   "cell_type": "code",
   "execution_count": 16,
   "metadata": {},
   "outputs": [
    {
     "data": {
      "application/vnd.jupyter.widget-view+json": {
       "model_id": "516e53e293df46de831129d4668ff7d8",
       "version_major": 2,
       "version_minor": 0
      },
      "text/plain": [
       "VBox()"
      ]
     },
     "metadata": {},
     "output_type": "display_data"
    },
    {
     "data": {
      "application/vnd.jupyter.widget-view+json": {
       "model_id": "",
       "version_major": 2,
       "version_minor": 0
      },
      "text/plain": [
       "FloatProgress(value=0.0, bar_style='info', description='Progress:', layout=Layout(height='25px', width='50%'),…"
      ]
     },
     "metadata": {},
     "output_type": "display_data"
    },
    {
     "name": "stdout",
     "output_type": "stream",
     "text": [
      "root\n",
      " |-- Created Date: string (nullable = true)\n",
      " |-- Closed Date: string (nullable = true)\n",
      " |-- Agency: string (nullable = true)\n",
      " |-- Complaint Type: string (nullable = true)\n",
      " |-- Descriptor: string (nullable = true)\n",
      " |-- Location Type: string (nullable = true)\n",
      " |-- Incident Zip: string (nullable = true)\n",
      " |-- Address Type: string (nullable = true)\n",
      " |-- City: string (nullable = true)\n",
      " |-- Facility Type: string (nullable = true)\n",
      " |-- Status: string (nullable = true)\n",
      " |-- Due Date: string (nullable = true)\n",
      " |-- Community Board: string (nullable = true)\n",
      " |-- Borough: string (nullable = true)\n",
      " |-- Open Data Channel Type: string (nullable = true)"
     ]
    }
   ],
   "source": [
    "df_5.printSchema()"
   ]
  },
  {
   "cell_type": "code",
   "execution_count": 17,
   "metadata": {},
   "outputs": [
    {
     "data": {
      "application/vnd.jupyter.widget-view+json": {
       "model_id": "16c1c0e7b4fd4526abebb94f1199579c",
       "version_major": 2,
       "version_minor": 0
      },
      "text/plain": [
       "VBox()"
      ]
     },
     "metadata": {},
     "output_type": "display_data"
    },
    {
     "data": {
      "application/vnd.jupyter.widget-view+json": {
       "model_id": "",
       "version_major": 2,
       "version_minor": 0
      },
      "text/plain": [
       "FloatProgress(value=0.0, bar_style='info', description='Progress:', layout=Layout(height='25px', width='50%'),…"
      ]
     },
     "metadata": {},
     "output_type": "display_data"
    }
   ],
   "source": [
    "from pyspark.sql.functions import *\n",
    "formatCreatedDate = lambda x: x.withColumn('Created Date', to_timestamp(unix_timestamp(col('Created Date'), 'MM/dd/yyy hh:mm:ss').cast(\"timestamp\")))\n",
    "\n",
    "formatClosedDate = lambda x: x.withColumn('Closed Date', \n",
    "                   to_timestamp(unix_timestamp(col('Closed Date'), 'MM/dd/yyyy hh:mm:ss').cast(\"timestamp\")))\n",
    "df_6 = formatCreatedDate(df_5)\n",
    "df_7 = formatClosedDate(df_6)"
   ]
  },
  {
   "cell_type": "code",
   "execution_count": 18,
   "metadata": {},
   "outputs": [
    {
     "data": {
      "application/vnd.jupyter.widget-view+json": {
       "model_id": "1c60d592ace64c8e88153caf0cac30ad",
       "version_major": 2,
       "version_minor": 0
      },
      "text/plain": [
       "VBox()"
      ]
     },
     "metadata": {},
     "output_type": "display_data"
    },
    {
     "data": {
      "application/vnd.jupyter.widget-view+json": {
       "model_id": "",
       "version_major": 2,
       "version_minor": 0
      },
      "text/plain": [
       "FloatProgress(value=0.0, bar_style='info', description='Progress:', layout=Layout(height='25px', width='50%'),…"
      ]
     },
     "metadata": {},
     "output_type": "display_data"
    },
    {
     "name": "stdout",
     "output_type": "stream",
     "text": [
      "+-------------------+-------------------+---------------+\n",
      "|       Created Date|        Closed Date|Time Difference|\n",
      "+-------------------+-------------------+---------------+\n",
      "|2015-01-01 00:00:50|2015-01-01 02:47:50|              2|\n",
      "|2015-01-01 00:01:29|2015-01-01 02:42:22|              2|\n",
      "|2015-01-01 00:01:30|2015-01-01 00:20:33|              0|\n",
      "|2015-01-01 00:04:28|2015-01-01 02:25:02|              2|\n",
      "|2015-01-01 00:04:44|2015-01-01 10:22:31|             10|\n",
      "|2015-01-01 00:04:51|2015-01-01 01:03:07|              0|\n",
      "|2015-01-01 00:05:05|2015-01-01 01:22:10|              1|\n",
      "|2015-01-01 00:05:12|2015-01-01 01:13:15|              1|\n",
      "|2015-01-01 00:06:02|2015-01-01 00:43:41|              0|\n",
      "|2015-01-01 00:06:43|2015-01-01 06:05:18|              5|\n",
      "+-------------------+-------------------+---------------+\n",
      "only showing top 10 rows"
     ]
    }
   ],
   "source": [
    "createTimeDifference = lambda x: x.withColumn(\"Time Difference\", ((col(\"Closed Date\").cast(\"long\")-col(\"Created Date\").cast(\"long\"))/3600).cast(\"int\"))\n",
    "df_8 = createTimeDifference(df_7)\n",
    "df_8.select('Created Date', 'Closed Date', 'Time Difference').show(n=10)"
   ]
  },
  {
   "cell_type": "code",
   "execution_count": 19,
   "metadata": {},
   "outputs": [
    {
     "data": {
      "application/vnd.jupyter.widget-view+json": {
       "model_id": "143158eb94d446c79424fba30fe2bbe5",
       "version_major": 2,
       "version_minor": 0
      },
      "text/plain": [
       "VBox()"
      ]
     },
     "metadata": {},
     "output_type": "display_data"
    },
    {
     "data": {
      "application/vnd.jupyter.widget-view+json": {
       "model_id": "",
       "version_major": 2,
       "version_minor": 0
      },
      "text/plain": [
       "FloatProgress(value=0.0, bar_style='info', description='Progress:', layout=Layout(height='25px', width='50%'),…"
      ]
     },
     "metadata": {},
     "output_type": "display_data"
    },
    {
     "name": "stdout",
     "output_type": "stream",
     "text": [
      "root\n",
      " |-- Created Date: timestamp (nullable = true)\n",
      " |-- Closed Date: timestamp (nullable = true)\n",
      " |-- Agency: string (nullable = true)\n",
      " |-- Complaint Type: string (nullable = true)\n",
      " |-- Descriptor: string (nullable = true)\n",
      " |-- Location Type: string (nullable = true)\n",
      " |-- Incident Zip: string (nullable = true)\n",
      " |-- Address Type: string (nullable = true)\n",
      " |-- City: string (nullable = true)\n",
      " |-- Facility Type: string (nullable = true)\n",
      " |-- Status: string (nullable = true)\n",
      " |-- Due Date: string (nullable = true)\n",
      " |-- Community Board: string (nullable = true)\n",
      " |-- Borough: string (nullable = true)\n",
      " |-- Open Data Channel Type: string (nullable = true)\n",
      " |-- Time Difference: integer (nullable = true)"
     ]
    }
   ],
   "source": [
    "df_8.printSchema()"
   ]
  },
  {
   "cell_type": "code",
   "execution_count": 20,
   "metadata": {},
   "outputs": [
    {
     "data": {
      "application/vnd.jupyter.widget-view+json": {
       "model_id": "37fa02d709924f009bed382802f02486",
       "version_major": 2,
       "version_minor": 0
      },
      "text/plain": [
       "VBox()"
      ]
     },
     "metadata": {},
     "output_type": "display_data"
    },
    {
     "data": {
      "application/vnd.jupyter.widget-view+json": {
       "model_id": "",
       "version_major": 2,
       "version_minor": 0
      },
      "text/plain": [
       "FloatProgress(value=0.0, bar_style='info', description='Progress:', layout=Layout(height='25px', width='50%'),…"
      ]
     },
     "metadata": {},
     "output_type": "display_data"
    },
    {
     "name": "stdout",
     "output_type": "stream",
     "text": [
      "root\n",
      " |-- Created Date: timestamp (nullable = true)\n",
      " |-- Closed Date: timestamp (nullable = true)\n",
      " |-- Agency: string (nullable = true)\n",
      " |-- Complaint Type: string (nullable = true)\n",
      " |-- Descriptor: string (nullable = true)\n",
      " |-- Location Type: string (nullable = true)\n",
      " |-- Incident Zip: string (nullable = true)\n",
      " |-- Address Type: string (nullable = true)\n",
      " |-- City: string (nullable = true)\n",
      " |-- Facility Type: string (nullable = true)\n",
      " |-- Status: string (nullable = true)\n",
      " |-- Due Date: string (nullable = true)\n",
      " |-- Community Board: string (nullable = true)\n",
      " |-- Borough: string (nullable = true)\n",
      " |-- Open Data Channel Type: string (nullable = true)\n",
      " |-- Time Difference: integer (nullable = true)\n",
      " |-- Month: integer (nullable = true)\n",
      "\n",
      "+-----+\n",
      "|Month|\n",
      "+-----+\n",
      "|    1|\n",
      "|    1|\n",
      "|    1|\n",
      "|    1|\n",
      "|    1|\n",
      "+-----+\n",
      "only showing top 5 rows"
     ]
    }
   ],
   "source": [
    "import datetime\n",
    "getMonth = lambda x: x.withColumn(\"Month\", month('Created Date'))                                \n",
    "\n",
    "df_9 = getMonth(df_8)\n",
    "\n",
    "df_9.printSchema()\n",
    "\n",
    "df_9.select('Month').show(n=5)"
   ]
  },
  {
   "cell_type": "code",
   "execution_count": 21,
   "metadata": {},
   "outputs": [
    {
     "data": {
      "application/vnd.jupyter.widget-view+json": {
       "model_id": "7fb7026188554e0d80368d24f73d0803",
       "version_major": 2,
       "version_minor": 0
      },
      "text/plain": [
       "VBox()"
      ]
     },
     "metadata": {},
     "output_type": "display_data"
    },
    {
     "data": {
      "application/vnd.jupyter.widget-view+json": {
       "model_id": "",
       "version_major": 2,
       "version_minor": 0
      },
      "text/plain": [
       "FloatProgress(value=0.0, bar_style='info', description='Progress:', layout=Layout(height='25px', width='50%'),…"
      ]
     },
     "metadata": {},
     "output_type": "display_data"
    },
    {
     "name": "stdout",
     "output_type": "stream",
     "text": [
      "root\n",
      " |-- Agency: string (nullable = true)\n",
      " |-- Complaint Type: string (nullable = true)\n",
      " |-- Descriptor: string (nullable = true)\n",
      " |-- Location Type: string (nullable = true)\n",
      " |-- Incident Zip: string (nullable = true)\n",
      " |-- Address Type: string (nullable = true)\n",
      " |-- City: string (nullable = true)\n",
      " |-- Facility Type: string (nullable = true)\n",
      " |-- Community Board: string (nullable = true)\n",
      " |-- Borough: string (nullable = true)\n",
      " |-- Open Data Channel Type: string (nullable = true)\n",
      " |-- Time Difference: integer (nullable = true)\n",
      " |-- Month: integer (nullable = true)"
     ]
    }
   ],
   "source": [
    "df_10 = df_9.drop('Created Date', 'Closed Date', 'Due Date', 'Status')\n",
    "df_10.printSchema()"
   ]
  },
  {
   "cell_type": "code",
   "execution_count": 22,
   "metadata": {},
   "outputs": [
    {
     "data": {
      "application/vnd.jupyter.widget-view+json": {
       "model_id": "abdcec810ada479f9b2dc83dc864cc7c",
       "version_major": 2,
       "version_minor": 0
      },
      "text/plain": [
       "VBox()"
      ]
     },
     "metadata": {},
     "output_type": "display_data"
    },
    {
     "data": {
      "application/vnd.jupyter.widget-view+json": {
       "model_id": "",
       "version_major": 2,
       "version_minor": 0
      },
      "text/plain": [
       "FloatProgress(value=0.0, bar_style='info', description='Progress:', layout=Layout(height='25px', width='50%'),…"
      ]
     },
     "metadata": {},
     "output_type": "display_data"
    },
    {
     "name": "stdout",
     "output_type": "stream",
     "text": [
      "+---------------+-----+\n",
      "|Time Difference|count|\n",
      "+---------------+-----+\n",
      "|            148| 1997|\n",
      "|           2142|   28|\n",
      "|            471|  279|\n",
      "|            496|  339|\n",
      "|            833|  191|\n",
      "|            463|  311|\n",
      "|           7554|    6|\n",
      "|           3918|    9|\n",
      "|           1645|   73|\n",
      "|           5518|   15|\n",
      "|           2659|   50|\n",
      "|           1342|  131|\n",
      "|          15727|    2|\n",
      "|           1829|   28|\n",
      "|           1238|   56|\n",
      "|           3794|   20|\n",
      "|           2122|   12|\n",
      "|           1580|   76|\n",
      "|           5803|    4|\n",
      "|          14832|    2|\n",
      "|           6357|   11|\n",
      "|           3997|   21|\n",
      "|           1959|   62|\n",
      "|          10362|    4|\n",
      "|          20382|    1|\n",
      "|          18024|    1|\n",
      "|          16386|    1|\n",
      "|          10817|    4|\n",
      "|          20497|    2|\n",
      "|          18866|    2|\n",
      "|           4101|   25|\n",
      "|           1088|   56|\n",
      "|           1591|   22|\n",
      "|          20735|    3|\n",
      "|           2366|   49|\n",
      "|           8086|    7|\n",
      "|          15790|    2|\n",
      "|           6336|    8|\n",
      "|           3749|    8|\n",
      "|           3175|   19|\n",
      "|          14450|    1|\n",
      "|           4519|   11|\n",
      "|           7253|    5|\n",
      "|           6620|    8|\n",
      "|          14570|    5|\n",
      "|           6654|    2|\n",
      "|          13840|    4|\n",
      "|          16503|    1|\n",
      "|           6466|    4|\n",
      "|          10623|    1|\n",
      "|           4935|   11|\n",
      "|           7993|    2|\n",
      "|           4818|    9|\n",
      "|           8638|    5|\n",
      "|           8592|    3|\n",
      "|           5156|   10|\n",
      "|           7982|    4|\n",
      "|          16861|    2|\n",
      "|          26706|    1|\n",
      "|          21700|    1|\n",
      "|          23336|    1|\n",
      "|          22373|    3|\n",
      "|           5300|   11|\n",
      "|          15619|    1|\n",
      "|          29194|    2|\n",
      "|          19984|    2|\n",
      "|           9900|    1|\n",
      "|           9465|    1|\n",
      "|          11858|    5|\n",
      "|          15447|    4|\n",
      "|           4900|    3|\n",
      "|          29814|    1|\n",
      "|          19553|    1|\n",
      "|          19204|    2|\n",
      "|           2866|   10|\n",
      "|           7340|    2|\n",
      "|           7240|    7|\n",
      "|          25462|    1|\n",
      "|          12046|    5|\n",
      "|          13623|    2|\n",
      "|          11141|    3|\n",
      "|           9427|    2|\n",
      "|           6658|    2|\n",
      "|           7833|    2|\n",
      "|          19530|    1|\n",
      "|           7754|    1|\n",
      "|          15957|    1|\n",
      "|          12799|    3|\n",
      "|          25591|    1|\n",
      "|          18051|    2|\n",
      "|          22521|    1|\n",
      "|          22223|    1|\n",
      "|          22097|    1|\n",
      "|          30970|    1|\n",
      "|          21220|    1|\n",
      "|          20924|    1|\n",
      "|          13289|    1|\n",
      "|          17679|    1|\n",
      "|          13832|    1|\n",
      "|          12940|    2|\n",
      "+---------------+-----+\n",
      "only showing top 100 rows\n",
      "\n",
      "3774754"
     ]
    }
   ],
   "source": [
    "df_11 = df_10.filter(col(\"Time Difference\") >= 0)\n",
    "showTime = lambda x: x.groupby(\"Time Difference\").count()\n",
    "showTime(df_11).show(n=100)\n",
    "print(df_11.count())"
   ]
  },
  {
   "cell_type": "code",
   "execution_count": 23,
   "metadata": {},
   "outputs": [
    {
     "data": {
      "application/vnd.jupyter.widget-view+json": {
       "model_id": "4549f1c0de6648d5a3222d0359a13781",
       "version_major": 2,
       "version_minor": 0
      },
      "text/plain": [
       "VBox()"
      ]
     },
     "metadata": {},
     "output_type": "display_data"
    },
    {
     "data": {
      "application/vnd.jupyter.widget-view+json": {
       "model_id": "",
       "version_major": 2,
       "version_minor": 0
      },
      "text/plain": [
       "FloatProgress(value=0.0, bar_style='info', description='Progress:', layout=Layout(height='25px', width='50%'),…"
      ]
     },
     "metadata": {},
     "output_type": "display_data"
    },
    {
     "name": "stdout",
     "output_type": "stream",
     "text": [
      "root\n",
      " |-- Agency: string (nullable = true)\n",
      " |-- Complaint Type: string (nullable = true)\n",
      " |-- Descriptor: string (nullable = true)\n",
      " |-- Location Type: string (nullable = true)\n",
      " |-- Incident Zip: string (nullable = true)\n",
      " |-- Address Type: string (nullable = true)\n",
      " |-- City: string (nullable = true)\n",
      " |-- Facility Type: string (nullable = true)\n",
      " |-- Community Board: string (nullable = true)\n",
      " |-- Borough: string (nullable = true)\n",
      " |-- Open Data Channel Type: string (nullable = true)\n",
      " |-- Time Difference: integer (nullable = true)\n",
      " |-- Month: integer (nullable = true)"
     ]
    }
   ],
   "source": [
    "df_11.printSchema()"
   ]
  },
  {
   "cell_type": "code",
   "execution_count": 24,
   "metadata": {},
   "outputs": [
    {
     "data": {
      "application/vnd.jupyter.widget-view+json": {
       "model_id": "10452ea1a70b4490b70889da3bcbdc14",
       "version_major": 2,
       "version_minor": 0
      },
      "text/plain": [
       "VBox()"
      ]
     },
     "metadata": {},
     "output_type": "display_data"
    },
    {
     "data": {
      "application/vnd.jupyter.widget-view+json": {
       "model_id": "",
       "version_major": 2,
       "version_minor": 0
      },
      "text/plain": [
       "FloatProgress(value=0.0, bar_style='info', description='Progress:', layout=Layout(height='25px', width='50%'),…"
      ]
     },
     "metadata": {},
     "output_type": "display_data"
    }
   ],
   "source": [
    "createTimeBucket = lambda x: x.withColumn(\"Time Bucket\", when((col(\"Time Difference\") == 0), 0).when((col(\"Time Difference\") == 1), 1).when(((col(\"Time Difference\") > 1)&(col(\"Time Difference\") <=3 )), 2).when(((col(\"Time Difference\") > 3)&(col(\"Time Difference\") <=5)), 3).when(((col(\"Time Difference\") > 5)&(col(\"Time Difference\")<=24)), 4).when(((col(\"Time Difference\") > 24)&(col(\"Time Difference\") <=168)), 5).when((col(\"Time Difference\") > 168), 6)\n",
    "                                         )\n",
    "df_12 = createTimeBucket(df_11)"
   ]
  },
  {
   "cell_type": "code",
   "execution_count": 25,
   "metadata": {},
   "outputs": [
    {
     "data": {
      "application/vnd.jupyter.widget-view+json": {
       "model_id": "03ee246055e74028870dee878c3d8eb0",
       "version_major": 2,
       "version_minor": 0
      },
      "text/plain": [
       "VBox()"
      ]
     },
     "metadata": {},
     "output_type": "display_data"
    },
    {
     "data": {
      "application/vnd.jupyter.widget-view+json": {
       "model_id": "",
       "version_major": 2,
       "version_minor": 0
      },
      "text/plain": [
       "FloatProgress(value=0.0, bar_style='info', description='Progress:', layout=Layout(height='25px', width='50%'),…"
      ]
     },
     "metadata": {},
     "output_type": "display_data"
    },
    {
     "name": "stdout",
     "output_type": "stream",
     "text": [
      "+---------------+-----------+\n",
      "|Time Difference|Time Bucket|\n",
      "+---------------+-----------+\n",
      "|              2|          2|\n",
      "|              2|          2|\n",
      "|              0|          0|\n",
      "|              2|          2|\n",
      "|             10|          4|\n",
      "|              0|          0|\n",
      "|              1|          1|\n",
      "|              1|          1|\n",
      "|              0|          0|\n",
      "|              5|          3|\n",
      "|              0|          0|\n",
      "|              1|          1|\n",
      "|              2|          2|\n",
      "|              1|          1|\n",
      "|              7|          4|\n",
      "|             10|          4|\n",
      "|              4|          3|\n",
      "|              4|          3|\n",
      "|              2|          2|\n",
      "|              0|          0|\n",
      "|              6|          4|\n",
      "|              2|          2|\n",
      "|              4|          3|\n",
      "|              0|          0|\n",
      "|              0|          0|\n",
      "|              1|          1|\n",
      "|              0|          0|\n",
      "|              3|          2|\n",
      "|              4|          3|\n",
      "|              0|          0|\n",
      "+---------------+-----------+\n",
      "only showing top 30 rows"
     ]
    }
   ],
   "source": [
    "df_12.select('Time Difference', 'Time Bucket').show(n=30)"
   ]
  },
  {
   "cell_type": "code",
   "execution_count": 26,
   "metadata": {},
   "outputs": [
    {
     "data": {
      "application/vnd.jupyter.widget-view+json": {
       "model_id": "d8253bcd4b054e59b36f669e69b0de71",
       "version_major": 2,
       "version_minor": 0
      },
      "text/plain": [
       "VBox()"
      ]
     },
     "metadata": {},
     "output_type": "display_data"
    },
    {
     "data": {
      "application/vnd.jupyter.widget-view+json": {
       "model_id": "",
       "version_major": 2,
       "version_minor": 0
      },
      "text/plain": [
       "FloatProgress(value=0.0, bar_style='info', description='Progress:', layout=Layout(height='25px', width='50%'),…"
      ]
     },
     "metadata": {},
     "output_type": "display_data"
    },
    {
     "name": "stdout",
     "output_type": "stream",
     "text": [
      "+-----------+------+\n",
      "|Time Bucket| count|\n",
      "+-----------+------+\n",
      "|          1|509718|\n",
      "|          6|600088|\n",
      "|          3|220033|\n",
      "|          5|461010|\n",
      "|          4|812166|\n",
      "|          2|536140|\n",
      "|          0|635599|\n",
      "+-----------+------+"
     ]
    }
   ],
   "source": [
    "bucketFrame = lambda x: x.groupby(\"Time Bucket\").count()\n",
    "bucketFrame(df_12).show(n=100)"
   ]
  },
  {
   "cell_type": "code",
   "execution_count": 27,
   "metadata": {},
   "outputs": [
    {
     "data": {
      "application/vnd.jupyter.widget-view+json": {
       "model_id": "8fcd4b85ea6a4c12ac0dde6d4a9f0a8a",
       "version_major": 2,
       "version_minor": 0
      },
      "text/plain": [
       "VBox()"
      ]
     },
     "metadata": {},
     "output_type": "display_data"
    },
    {
     "data": {
      "application/vnd.jupyter.widget-view+json": {
       "model_id": "",
       "version_major": 2,
       "version_minor": 0
      },
      "text/plain": [
       "FloatProgress(value=0.0, bar_style='info', description='Progress:', layout=Layout(height='25px', width='50%'),…"
      ]
     },
     "metadata": {},
     "output_type": "display_data"
    },
    {
     "name": "stdout",
     "output_type": "stream",
     "text": [
      "root\n",
      " |-- Agency: string (nullable = true)\n",
      " |-- Complaint Type: string (nullable = true)\n",
      " |-- Descriptor: string (nullable = true)\n",
      " |-- Location Type: string (nullable = true)\n",
      " |-- Incident Zip: string (nullable = true)\n",
      " |-- Address Type: string (nullable = true)\n",
      " |-- City: string (nullable = true)\n",
      " |-- Facility Type: string (nullable = true)\n",
      " |-- Community Board: string (nullable = true)\n",
      " |-- Borough: string (nullable = true)\n",
      " |-- Open Data Channel Type: string (nullable = true)\n",
      " |-- Time Difference: integer (nullable = true)\n",
      " |-- Month: integer (nullable = true)\n",
      " |-- Time Bucket: integer (nullable = true)"
     ]
    }
   ],
   "source": [
    "df_12.printSchema()"
   ]
  },
  {
   "cell_type": "code",
   "execution_count": 55,
   "metadata": {},
   "outputs": [
    {
     "data": {
      "application/vnd.jupyter.widget-view+json": {
       "model_id": "e3244a81b950405a8d2307ee181c9e63",
       "version_major": 2,
       "version_minor": 0
      },
      "text/plain": [
       "VBox()"
      ]
     },
     "metadata": {},
     "output_type": "display_data"
    },
    {
     "data": {
      "application/vnd.jupyter.widget-view+json": {
       "model_id": "",
       "version_major": 2,
       "version_minor": 0
      },
      "text/plain": [
       "FloatProgress(value=0.0, bar_style='info', description='Progress:', layout=Layout(height='25px', width='50%'),…"
      ]
     },
     "metadata": {},
     "output_type": "display_data"
    },
    {
     "name": "stderr",
     "output_type": "stream",
     "text": [
      "invalid syntax (<stdin>, line 2)\n",
      "  File \"<stdin>\", line 2\n",
      "    df_13 = df_13.filter(df_13.Open Data Channel Type != '3-1-1')\n",
      "                                       ^\n",
      "SyntaxError: invalid syntax\n",
      "\n"
     ]
    }
   ],
   "source": [
    "df_13 = df_12.drop('Time Difference', 'Facility Type', 'Address Type', 'City')"
   ]
  },
  {
   "cell_type": "code",
   "execution_count": 29,
   "metadata": {},
   "outputs": [
    {
     "data": {
      "application/vnd.jupyter.widget-view+json": {
       "model_id": "7563154fea5e4ea68d144fc0f4b7dec8",
       "version_major": 2,
       "version_minor": 0
      },
      "text/plain": [
       "VBox()"
      ]
     },
     "metadata": {},
     "output_type": "display_data"
    },
    {
     "data": {
      "application/vnd.jupyter.widget-view+json": {
       "model_id": "",
       "version_major": 2,
       "version_minor": 0
      },
      "text/plain": [
       "FloatProgress(value=0.0, bar_style='info', description='Progress:', layout=Layout(height='25px', width='50%'),…"
      ]
     },
     "metadata": {},
     "output_type": "display_data"
    },
    {
     "name": "stdout",
     "output_type": "stream",
     "text": [
      "+------+-------+\n",
      "|Agency|  count|\n",
      "+------+-------+\n",
      "|   DOT| 396699|\n",
      "|   DPR| 219521|\n",
      "|   TLC|  38873|\n",
      "|   EDC|   4371|\n",
      "|   DOF| 167195|\n",
      "| 3-1-1|      9|\n",
      "|  NYPD|2594549|\n",
      "|   DOB|   6053|\n",
      "|  DFTA|  33572|\n",
      "| DOHMH| 210707|\n",
      "|  DSNY|  50259|\n",
      "|   DHS|  51197|\n",
      "| DOITT|   1749|\n",
      "+------+-------+\n",
      "\n",
      "+--------------------+------+\n",
      "|      Complaint Type| count|\n",
      "+--------------------+------+\n",
      "|             Tanning|    35|\n",
      "|  Noise - Helicopter|  4371|\n",
      "|Broken Parking Meter| 18795|\n",
      "|   Broken Muni Meter| 54783|\n",
      "|    Street Condition|125706|\n",
      "|             Vending| 16138|\n",
      "|      Drinking Water|   549|\n",
      "|       Public Toilet|   190|\n",
      "|Bus Stop Shelter ...|  4514|\n",
      "|DOF Property - RP...|  1182|\n",
      "|          Mosquitoes|     6|\n",
      "|DOF Property - Re...| 52726|\n",
      "|        Animal Abuse| 34600|\n",
      "|    Animal in a Park|  1535|\n",
      "|    Injured Wildlife|     1|\n",
      "|Noise - House of ...|  3577|\n",
      "|Asbestos/Garbage ...|     1|\n",
      "|Home Delivered Me...|   316|\n",
      "|     Illegal Parking|465965|\n",
      "|  Building Condition|     8|\n",
      "+--------------------+------+\n",
      "only showing top 20 rows\n",
      "\n",
      "+--------------------+------+\n",
      "|          Descriptor| count|\n",
      "+--------------------+------+\n",
      "|Plate Condition -...|  3811|\n",
      "|BBQ Outside Autho...|   378|\n",
      "|       Miscellaneous|  4413|\n",
      "|Personal Veteran ...|  2861|\n",
      "|            Tortured|  3425|\n",
      "|         Broken Curb| 11808|\n",
      "|Illegal Activity ...|    85|\n",
      "|List of Outstandi...|     1|\n",
      "|Copy of Notice of...|  2235|\n",
      "|Other (Explain Be...|  3214|\n",
      "| Amount Owed Dispute|  1433|\n",
      "|    Signs of Rodents| 11261|\n",
      "|               Water|    31|\n",
      "|                Sign|    71|\n",
      "|Posted Parking Si...|117800|\n",
      "|Double Parked Blo...| 20113|\n",
      "|Truck Route Viola...|  3566|\n",
      "|           Lost Coin|    92|\n",
      "|     Cellar Door New|    17|\n",
      "| Other Billing Issue|  7080|\n",
      "+--------------------+------+\n",
      "only showing top 20 rows\n",
      "\n",
      "+--------------------+------+\n",
      "|       Location Type| count|\n",
      "+--------------------+------+\n",
      "|     House and Store|   887|\n",
      "|Other (Explain Be...| 20290|\n",
      "|  Public Park/Garden|     3|\n",
      "|          Condo Unit|  3813|\n",
      "|    House of Worship|  5008|\n",
      "|    Store/Commercial|121628|\n",
      "|1-3 Family Mixed ...|    16|\n",
      "|                Golf|     1|\n",
      "|       Tanning Salon|    18|\n",
      "|Cafeteria - Priva...|    51|\n",
      "|       Grocery Store|    22|\n",
      "|  Abandoned Building|   155|\n",
      "|            Cemetery|     2|\n",
      "|  Street Fair Vendor|    31|\n",
      "|              Subway|   247|\n",
      "|          Co-Op Unit| 14164|\n",
      "|         Parking Lot|   409|\n",
      "|      Roadway Tunnel|    53|\n",
      "|   Construction Site|  2747|\n",
      "|         Vacant Land|    27|\n",
      "+--------------------+------+\n",
      "only showing top 20 rows\n",
      "\n",
      "+------------+-----+\n",
      "|Incident Zip|count|\n",
      "+------------+-----+\n",
      "|       10096|    2|\n",
      "|       11236|34105|\n",
      "|       11205|29727|\n",
      "|       10309|10351|\n",
      "|       11106|19041|\n",
      "|       11251|   34|\n",
      "|       10110|   30|\n",
      "|       11218|31797|\n",
      "|       10805|    1|\n",
      "|       10452|34611|\n",
      "|       11428| 8657|\n",
      "|       10169|   93|\n",
      "|       11237|35004|\n",
      "|       10177|   21|\n",
      "|       10710|    1|\n",
      "|       11379|20760|\n",
      "|       10803|   24|\n",
      "|       11364|10738|\n",
      "|   1008-7162|    1|\n",
      "|       11109|  701|\n",
      "+------------+-----+\n",
      "only showing top 20 rows\n",
      "\n",
      "+------------+-------+\n",
      "|Address Type|  count|\n",
      "+------------+-------+\n",
      "|INTERSECTION| 430389|\n",
      "|   BLOCKFACE|  90066|\n",
      "|     LATLONG|  68833|\n",
      "|     ADDRESS|3183122|\n",
      "|   PLACENAME|   2344|\n",
      "+------------+-------+\n",
      "\n",
      "+-------------------+-----+\n",
      "|               City|count|\n",
      "+-------------------+-----+\n",
      "|             Corona| 1194|\n",
      "|HUNTINGTON STRATION|    1|\n",
      "|          Rego Park|  694|\n",
      "|             CORONA|40107|\n",
      "|       CENTRAL PARK|  237|\n",
      "|    Jackson Heights| 1091|\n",
      "|            Bayside|  504|\n",
      "|          RICHFIELD|    1|\n",
      "|            BAYSIDE|17443|\n",
      "|             POMONA|    1|\n",
      "|    Oakland Gardens|  303|\n",
      "|             INWOOD|    1|\n",
      "|        Little Neck|  195|\n",
      "|       FAR ROCKAWAY|21373|\n",
      "|           Flushing| 2393|\n",
      "|        KEW GARDENS| 9307|\n",
      "|      East Elmhurst|  802|\n",
      "|           MAGNOLIA|    1|\n",
      "|        FLORAL PARK| 2352|\n",
      "|         Whitestone|  597|\n",
      "+-------------------+-----+\n",
      "only showing top 20 rows\n",
      "\n",
      "+-------------+-------+\n",
      "|Facility Type|  count|\n",
      "+-------------+-------+\n",
      "|     Precinct|2593216|\n",
      "|          N/A|1181538|\n",
      "+-------------+-------+\n",
      "\n",
      "+--------------------+------+\n",
      "|     Community Board| count|\n",
      "+--------------------+------+\n",
      "|Unspecified BROOKLYN| 13693|\n",
      "|           14 QUEENS| 36175|\n",
      "|   Unspecified BRONX| 10258|\n",
      "|            03 BRONX| 32706|\n",
      "|           01 QUEENS| 95829|\n",
      "|            10 BRONX| 50084|\n",
      "|           05 QUEENS|106353|\n",
      "|            01 BRONX| 33092|\n",
      "|            11 BRONX| 55866|\n",
      "|            02 BRONX| 21201|\n",
      "|        09 MANHATTAN| 57648|\n",
      "|         12 BROOKLYN| 67306|\n",
      "|        07 MANHATTAN| 70620|\n",
      "|           12 QUEENS| 93372|\n",
      "|         02 BROOKLYN| 66866|\n",
      "|            04 BRONX| 67451|\n",
      "|           03 QUEENS| 67483|\n",
      "|         18 BROOKLYN| 82972|\n",
      "|         05 BROOKLYN| 73047|\n",
      "|       0 Unspecified|  4943|\n",
      "+--------------------+------+\n",
      "only showing top 20 rows\n",
      "\n",
      "+-------------+-------+\n",
      "|      Borough|  count|\n",
      "+-------------+-------+\n",
      "|  Unspecified|   4943|\n",
      "|       QUEENS|1002602|\n",
      "|     BROOKLYN|1171761|\n",
      "|        BRONX| 602515|\n",
      "|    MANHATTAN| 813046|\n",
      "|STATEN ISLAND| 179887|\n",
      "+-------------+-------+\n",
      "\n",
      "+----------------------+-------+\n",
      "|Open Data Channel Type|  count|\n",
      "+----------------------+-------+\n",
      "|                MOBILE| 703796|\n",
      "|               UNKNOWN|  74658|\n",
      "|                 OTHER|  55317|\n",
      "|                 PHONE|2007306|\n",
      "|                ONLINE| 933677|\n",
      "+----------------------+-------+\n",
      "\n",
      "+-----+------+\n",
      "|Month| count|\n",
      "+-----+------+\n",
      "|   12|257621|\n",
      "|    1|299480|\n",
      "|    6|373540|\n",
      "|    3|318371|\n",
      "|    5|351621|\n",
      "|    9|341688|\n",
      "|    4|291820|\n",
      "|    8|331556|\n",
      "|    7|346583|\n",
      "|   10|314170|\n",
      "|   11|266595|\n",
      "|    2|281709|\n",
      "+-----+------+"
     ]
    }
   ],
   "source": [
    "cat1 = lambda x: x.groupby(\"Agency\").count()\n",
    "descriptor_frame = cat1(df_12).show()\n",
    "cat2 = lambda x: x.groupby(\"Complaint Type\").count()\n",
    "descriptor_frame = cat2(df_12).show()\n",
    "cat3 = lambda x: x.groupby(\"Descriptor\").count()\n",
    "descriptor_frame = cat3(df_12).show()\n",
    "cat4 = lambda x: x.groupby(\"Location Type\").count()\n",
    "descriptor_frame = cat4(df_12).show()\n",
    "cat5 = lambda x: x.groupby(\"Incident Zip\").count()\n",
    "descriptor_frame = cat5(df_12).show()\n",
    "cat6 = lambda x: x.groupby(\"Address Type\").count()\n",
    "descriptor_frame = cat6(df_12).show()\n",
    "cat7 = lambda x: x.groupby(\"City\").count()\n",
    "descriptor_frame = cat7(df_12).show()\n",
    "cat8 = lambda x: x.groupby(\"Facility Type\").count()\n",
    "descriptor_frame = cat8(df_12).show()\n",
    "cat9 = lambda x: x.groupby(\"Community Board\").count()\n",
    "descriptor_frame = cat9(df_12).show()\n",
    "cat10 = lambda x: x.groupby(\"Borough\").count()\n",
    "descriptor_frame = cat10(df_12).show()\n",
    "cat11 = lambda x: x.groupby(\"Open Data Channel Type\").count()\n",
    "descriptor_frame = cat11(df_12).show()\n",
    "cat12 = lambda x: x.groupby(\"Month\").count()\n",
    "descriptor_frame = cat12(df_12).show()"
   ]
  },
  {
   "cell_type": "code",
   "execution_count": 30,
   "metadata": {},
   "outputs": [
    {
     "data": {
      "application/vnd.jupyter.widget-view+json": {
       "model_id": "b7304b0fe6134a959f7033fdaad1ad61",
       "version_major": 2,
       "version_minor": 0
      },
      "text/plain": [
       "VBox()"
      ]
     },
     "metadata": {},
     "output_type": "display_data"
    },
    {
     "data": {
      "application/vnd.jupyter.widget-view+json": {
       "model_id": "",
       "version_major": 2,
       "version_minor": 0
      },
      "text/plain": [
       "FloatProgress(value=0.0, bar_style='info', description='Progress:', layout=Layout(height='25px', width='50%'),…"
      ]
     },
     "metadata": {},
     "output_type": "display_data"
    },
    {
     "name": "stdout",
     "output_type": "stream",
     "text": [
      "root\n",
      " |-- Agency: string (nullable = true)\n",
      " |-- Complaint Type: string (nullable = true)\n",
      " |-- Descriptor: string (nullable = true)\n",
      " |-- Location Type: string (nullable = true)\n",
      " |-- Incident Zip: string (nullable = true)\n",
      " |-- Community Board: string (nullable = true)\n",
      " |-- Borough: string (nullable = true)\n",
      " |-- Open Data Channel Type: string (nullable = true)\n",
      " |-- Month: integer (nullable = true)\n",
      " |-- Time Bucket: integer (nullable = true)\n",
      " |-- Agency_Index: double (nullable = false)\n",
      " |-- Complaint_Type_Index: double (nullable = false)\n",
      " |-- Descriptor_Index: double (nullable = false)\n",
      " |-- Location_Type_Index: double (nullable = false)\n",
      " |-- Incident_Zip_Index: double (nullable = false)\n",
      " |-- Community_Board_Index: double (nullable = false)\n",
      " |-- Borough_Index: double (nullable = false)\n",
      " |-- Open_Data_Channel_Type_Index: double (nullable = false)"
     ]
    }
   ],
   "source": [
    "from pyspark.ml.feature import StringIndexer, OneHotEncoderEstimator\n",
    "\n",
    "# create object of StringIndexer class and specify input and output column\n",
    "SI_Agency = StringIndexer(inputCol='Agency',outputCol='Agency_Index')\n",
    "SI_Complaint_Type = StringIndexer(inputCol='Complaint Type',outputCol='Complaint_Type_Index')\n",
    "SI_Descriptor = StringIndexer(inputCol='Descriptor', outputCol='Descriptor_Index')\n",
    "SI_Location_Type = StringIndexer(inputCol='Location Type',outputCol='Location_Type_Index')\n",
    "SI_Incident_Zip = StringIndexer(inputCol='Incident Zip',outputCol='Incident_Zip_Index')\n",
    "SI_Community_Board = StringIndexer(inputCol='Community Board',outputCol='Community_Board_Index')\n",
    "SI_Borough = StringIndexer(inputCol='Borough',outputCol='Borough_Index')\n",
    "SI_Open_Data_Channel_Type = StringIndexer(inputCol='Open Data Channel Type',outputCol='Open_Data_Channel_Type_Index')\n",
    "\n",
    "# transform the data\n",
    "df_13 = SI_Agency.fit(df_13).transform(df_13)\n",
    "df_13 = SI_Complaint_Type.fit(df_13).transform(df_13)\n",
    "df_13 = SI_Descriptor.fit(df_13).transform(df_13)\n",
    "df_13 = SI_Location_Type.fit(df_13).transform(df_13)\n",
    "df_13 = SI_Incident_Zip.fit(df_13).transform(df_13)\n",
    "df_13 = SI_Community_Board.fit(df_13).transform(df_13)\n",
    "df_13 = SI_Borough.fit(df_13).transform(df_13)\n",
    "df_13 = SI_Open_Data_Channel_Type.fit(df_13).transform(df_13)\n",
    "\n",
    "# view the transformed data\n",
    "df_13.printSchema()"
   ]
  },
  {
   "cell_type": "code",
   "execution_count": 35,
   "metadata": {},
   "outputs": [
    {
     "data": {
      "application/vnd.jupyter.widget-view+json": {
       "model_id": "e13e7de6bf7d4b9a8d178ebd38d25fee",
       "version_major": 2,
       "version_minor": 0
      },
      "text/plain": [
       "VBox()"
      ]
     },
     "metadata": {},
     "output_type": "display_data"
    },
    {
     "data": {
      "application/vnd.jupyter.widget-view+json": {
       "model_id": "",
       "version_major": 2,
       "version_minor": 0
      },
      "text/plain": [
       "FloatProgress(value=0.0, bar_style='info', description='Progress:', layout=Layout(height='25px', width='50%'),…"
      ]
     },
     "metadata": {},
     "output_type": "display_data"
    },
    {
     "name": "stderr",
     "output_type": "stream",
     "text": [
      "'Field \"Vector\" does not exist.\\nAvailable fields: Agency, Complaint Type, Descriptor, Location Type, Incident Zip, Community Board, Borough, Open Data Channel Type, Month, Time Bucket, Agency_Index, Complaint_Type_Index, Descriptor_Index, Location_Type_Index, Incident_Zip_Index, Community_Board_Index, Borough_Index, Open_Data_Channel_Type_Index'\n",
      "Traceback (most recent call last):\n",
      "  File \"/usr/lib/spark/python/lib/pyspark.zip/pyspark/ml/base.py\", line 132, in fit\n",
      "    return self._fit(dataset)\n",
      "  File \"/usr/lib/spark/python/lib/pyspark.zip/pyspark/ml/wrapper.py\", line 295, in _fit\n",
      "    java_model = self._fit_java(dataset)\n",
      "  File \"/usr/lib/spark/python/lib/pyspark.zip/pyspark/ml/wrapper.py\", line 292, in _fit_java\n",
      "    return self._java_obj.fit(dataset._jdf)\n",
      "  File \"/usr/lib/spark/python/lib/py4j-0.10.7-src.zip/py4j/java_gateway.py\", line 1257, in __call__\n",
      "    answer, self.gateway_client, self.target_id, self.name)\n",
      "  File \"/usr/lib/spark/python/lib/pyspark.zip/pyspark/sql/utils.py\", line 79, in deco\n",
      "    raise IllegalArgumentException(s.split(': ', 1)[1], stackTrace)\n",
      "pyspark.sql.utils.IllegalArgumentException: 'Field \"Vector\" does not exist.\\nAvailable fields: Agency, Complaint Type, Descriptor, Location Type, Incident Zip, Community Board, Borough, Open Data Channel Type, Month, Time Bucket, Agency_Index, Complaint_Type_Index, Descriptor_Index, Location_Type_Index, Incident_Zip_Index, Community_Board_Index, Borough_Index, Open_Data_Channel_Type_Index'\n",
      "\n"
     ]
    }
   ],
   "source": [
    "from pyspark.ml.linalg import *\n",
    "from pyspark.ml.feature import *\n",
    "\n",
    "\n",
    "makeVector = VectorAssembler(inputCols=['Agency_Index', 'Complaint_Type_Index', 'Descriptor_Index', 'Location_Type_Index', 'Incident_Zip_Index', 'Community_Board_Index', 'Borough_Index', 'Open_Data_Channel_Type_Index', 'Month'],\n",
    "                          outputCol='Vector')\n",
    "\n",
    "train, test = df_13.randomSplit([0.7, 0.3], seed = 2018)\n",
    "print(\"Training Dataset Count: \" + str(train.count()))\n",
    "print(\"Test Dataset Count: \" + str(test.count()))\n",
    "\n",
    "\n",
    "\n",
    "from pyspark.ml.classification import LogisticRegression\n",
    "lr = LogisticRegression(featuresCol = 'Vector', labelCol = 'Time Bucket', maxIter=10)\n",
    "sample_data_train = lr.fit(train)\n",
    "\n",
    "model_df = makeVector.transform(train)\n",
    "\n",
    "sample_data_train.select('Vector', 'Time Bucket', 'rawPrediction', 'probability', 'prediction').show()"
   ]
  },
  {
   "cell_type": "code",
   "execution_count": 32,
   "metadata": {},
   "outputs": [
    {
     "data": {
      "application/vnd.jupyter.widget-view+json": {
       "model_id": "7bf752a1ca1742068b0366bb3cdce487",
       "version_major": 2,
       "version_minor": 0
      },
      "text/plain": [
       "VBox()"
      ]
     },
     "metadata": {},
     "output_type": "display_data"
    },
    {
     "data": {
      "application/vnd.jupyter.widget-view+json": {
       "model_id": "",
       "version_major": 2,
       "version_minor": 0
      },
      "text/plain": [
       "FloatProgress(value=0.0, bar_style='info', description='Progress:', layout=Layout(height='25px', width='50%'),…"
      ]
     },
     "metadata": {},
     "output_type": "display_data"
    },
    {
     "name": "stderr",
     "output_type": "stream",
     "text": [
      "invalid syntax (<stdin>, line 4)\n",
      "  File \"<stdin>\", line 4\n",
      "    assembler1 = new VectorAssembler().setInputCols(Array(\"Agency_Index\", \"Complaint_Type_Index\", \"Descriptor_Index\", \"Location_Type_Index\", \"Incident_Zip_Index\", \"Community_Board_Index\", \"Borough_Index\", \"Open_Data_Channel_Type_Index\", \"Month\")).setOutputCol(\"Time\")\n",
      "                                   ^\n",
      "SyntaxError: invalid syntax\n",
      "\n"
     ]
    }
   ],
   "source": [
    "from pyspark.ml.feature import VectorAssembler\n",
    "from pyspark.ml.classification import LogisticRegression\n",
    "\n",
    "assembler1 = new VectorAssembler().setInputCols(Array(\"Agency_Index\", \"Complaint_Type_Index\", \"Descriptor_Index\", \"Location_Type_Index\", \"Incident_Zip_Index\", \"Community_Board_Index\", \"Borough_Index\", \"Open_Data_Channel_Type_Index\", \"Month\")).setOutputCol(\"Time\")\n",
    "\n",
    "train, test = df_13.randomSplit([0.7, 0.3], seed = 2018)\n",
    "print(\"Training Dataset Count: \" + str(train.count()))\n",
    "print(\"Test Dataset Count: \" + str(test.count()))\n",
    "\n",
    "model_df = makeVector(train)\n",
    "\n",
    "from pyspark.ml.classification import LogisticRegression\n",
    "lr = LogisticRegression(featuresCol = 'features', labelCol = 'label', maxIter=10)\n",
    "sample_data_train = lr.fit(train)\n",
    "\n",
    "sample_data_train.select('features', 'label', 'rawPrediction', 'probability', 'prediction').show()"
   ]
  },
  {
   "cell_type": "code",
   "execution_count": 51,
   "metadata": {},
   "outputs": [
    {
     "data": {
      "application/vnd.jupyter.widget-view+json": {
       "model_id": "6977dd53934543d79d04c7d2e0a6a10c",
       "version_major": 2,
       "version_minor": 0
      },
      "text/plain": [
       "VBox()"
      ]
     },
     "metadata": {},
     "output_type": "display_data"
    },
    {
     "data": {
      "application/vnd.jupyter.widget-view+json": {
       "model_id": "",
       "version_major": 2,
       "version_minor": 0
      },
      "text/plain": [
       "FloatProgress(value=0.0, bar_style='info', description='Progress:', layout=Layout(height='25px', width='50%'),…"
      ]
     },
     "metadata": {},
     "output_type": "display_data"
    },
    {
     "name": "stdout",
     "output_type": "stream",
     "text": [
      "Training Dataset Count: 2641998\n",
      "Test Dataset Count: 1132756\n",
      "+--------------------+-----------+--------------------+--------------------+----------+\n",
      "|            features|Time Bucket|       rawPrediction|         probability|prediction|\n",
      "+--------------------+-----------+--------------------+--------------------+----------+\n",
      "|[72.0,8.0,6.0,2.0...|          6|[-0.0337263233625...|[0.03214021070910...|       6.0|\n",
      "|[72.0,8.0,0.0,2.0...|          6|[-0.0422147572702...|[0.03229668917538...|       6.0|\n",
      "|[72.0,8.0,14.0,2....|          6|[-0.0224084114857...|[0.03192973779098...|       6.0|\n",
      "|[72.0,8.0,12.0,0....|          5|[0.01362888996395...|[0.03086978004526...|       6.0|\n",
      "|[72.0,8.0,2.0,0.0...|          6|[0.00171971710407...|[0.03122710348395...|       6.0|\n",
      "|[72.0,8.0,56.0,0....|          6|[0.07587740528679...|[0.02953817221284...|       6.0|\n",
      "|[72.0,8.0,36.0,0....|          5|[0.04758262559459...|[0.03014709736982...|       6.0|\n",
      "|[72.0,8.0,12.0,0....|          5|[0.01362888996395...|[0.03086978004526...|       6.0|\n",
      "|[72.0,8.0,18.0,1....|          6|[0.00268393416217...|[0.03132133048203...|       6.0|\n",
      "|[72.0,8.0,18.0,1....|          6|[0.00268393416217...|[0.03132133048203...|       6.0|\n",
      "|[72.0,8.0,15.0,1....|          5|[-0.0015602827916...|[0.03140649816802...|       6.0|\n",
      "|[85.0,8.0,18.0,1....|          5|[-0.0568984524067...|[0.01638100282791...|       6.0|\n",
      "|[83.0,8.0,55.0,0....|          5|[0.02404680074390...|[0.01692087052125...|       6.0|\n",
      "|[83.0,8.0,17.0,0....|          5|[-0.0297132806712...|[0.01768688253441...|       6.0|\n",
      "|[59.0,8.0,33.0,2....|          5|[0.06405401579076...|[0.05679858628511...|       6.0|\n",
      "|[59.0,8.0,6.0,2.0...|          4|[0.02809428019252...|[0.05780630455555...|       6.0|\n",
      "|[59.0,8.0,57.0,2....|          5|[0.09800775142141...|[0.05601487989610...|       6.0|\n",
      "|[59.0,8.0,6.0,2.0...|          5|[0.02585606320629...|[0.05760563542672...|       6.0|\n",
      "|[59.0,8.0,57.0,2....|          5|[0.09800775142141...|[0.05601487989610...|       6.0|\n",
      "|[59.0,8.0,16.0,2....|          5|[0.04000345305239...|[0.05731638300876...|       6.0|\n",
      "|[59.0,8.0,16.0,2....|          5|[0.04000345305239...|[0.05731638300876...|       6.0|\n",
      "|[59.0,8.0,16.0,2....|          5|[0.04000345305239...|[0.05731638300876...|       6.0|\n",
      "|[59.0,8.0,16.0,2....|          4|[0.04000345305239...|[0.05731638300876...|       6.0|\n",
      "|[59.0,8.0,16.0,2....|          6|[0.04000345305239...|[0.05731638300876...|       6.0|\n",
      "|[59.0,8.0,34.0,2....|          4|[0.06546875477538...|[0.05676713729500...|       6.0|\n",
      "|[59.0,8.0,14.0,2....|          3|[0.03717397508317...|[0.05737516135203...|       6.0|\n",
      "|[59.0,8.0,42.0,2....|          4|[0.07678666665226...|[0.05651170294188...|       6.0|\n",
      "|[59.0,8.0,42.0,2....|          5|[0.07678666665226...|[0.05651170294188...|       6.0|\n",
      "|[59.0,8.0,13.0,4....|          5|[-0.0031075433203...|[0.05740428592261...|       6.0|\n",
      "|[59.0,8.0,38.0,3....|          5|[0.05169432100438...|[0.05688310826042...|       6.0|\n",
      "|[59.0,8.0,52.0,3....|          5|[0.07150066678892...|[0.05648515597480...|       6.0|\n",
      "|[59.0,8.0,52.0,3....|          5|[0.07373888377514...|[0.05669488493575...|       6.0|\n",
      "|[59.0,8.0,27.0,3....|          5|[0.03613219217367...|[0.05718043830911...|       6.0|\n",
      "|[59.0,8.0,43.0,3....|          5|[0.06100623291365...|[0.05695772229487...|       6.0|\n",
      "|[59.0,8.0,37.0,3....|          5|[0.05027958201977...|[0.05691070494631...|       6.0|\n",
      "|[59.0,8.0,22.0,3....|          5|[0.02905849725062...|[0.05731098640557...|       6.0|\n",
      "|[59.0,8.0,37.0,3....|          5|[0.14414869426556...|[0.05640891173186...|       6.0|\n",
      "|[59.0,8.0,27.0,3....|          5|[0.13000130441946...|[0.05680594683809...|       6.0|\n",
      "|[59.0,8.0,43.0,3....|          5|[0.05876801592743...|[0.05674345231231...|       6.0|\n",
      "|[59.0,8.0,40.0,1....|          5|[0.09339057839247...|[0.05606814455726...|       6.0|\n",
      "|[59.0,8.0,29.0,0....|          5|[0.09726183927120...|[0.05574994512395...|       6.0|\n",
      "|[59.0,8.0,8.0,0.0...|          5|[0.06755232059439...|[0.05654442080450...|       6.0|\n",
      "|[59.0,8.0,12.0,0....|          1|[0.07321127653283...|[0.05639645259141...|       6.0|\n",
      "|[59.0,8.0,30.0,0....|          5|[0.09867657825581...|[0.05571105492740...|       6.0|\n",
      "|[59.0,8.0,29.0,0....|          5|[0.19113095151700...|[0.05337404332886...|       6.0|\n",
      "|[59.0,8.0,29.0,0....|          5|[0.09726183927120...|[0.05574994512395...|       6.0|\n",
      "|[59.0,8.0,44.0,0....|          2|[0.11848292404035...|[0.05515704769266...|       6.0|\n",
      "|[59.0,8.0,8.0,0.0...|          5|[0.06755232059439...|[0.05654442080450...|       6.0|\n",
      "|[59.0,8.0,8.0,0.0...|          5|[0.06755232059439...|[0.05654442080450...|       6.0|\n",
      "|[59.0,8.0,8.0,0.0...|          2|[0.06755232059439...|[0.05654442080450...|       6.0|\n",
      "+--------------------+-----------+--------------------+--------------------+----------+\n",
      "only showing top 50 rows"
     ]
    }
   ],
   "source": [
    "from pyspark.ml import Pipeline\n",
    "from pyspark.ml.linalg import *\n",
    "from pyspark.ml.feature import *\n",
    "\n",
    "train, test = df_13.randomSplit([0.7, 0.3], seed = 2018)\n",
    "print(\"Training Dataset Count: \" + str(train.count()))\n",
    "print(\"Test Dataset Count: \" + str(test.count()))\n",
    "\n",
    "\n",
    "\n",
    "stage_1 = VectorAssembler(inputCols=['Complaint_Type_Index', 'Descriptor_Index', 'Community_Board_Index', 'Borough_Index', 'Open_Data_Channel_Type_Index', 'Month'],\n",
    "                          outputCol='features')\n",
    "stage_2 = StandardScaler().setInputCol(\"features\").setOutputCol(\"Scaled_features\")\n",
    "\n",
    "\n",
    "# define stage 5: logistic regression model                          \n",
    "stage_3 = LogisticRegression(featuresCol='features',labelCol='Time Bucket', maxIter=100)\n",
    "\n",
    "# setup the pipeline\n",
    "regression_pipeline = Pipeline(stages= [stage_1, stage_3])\n",
    "\n",
    "# fit the pipeline for the trainind data\n",
    "model = regression_pipeline.fit(train)\n",
    "# transform the data\n",
    "train = model.transform(train)\n",
    "\n",
    "# view some of the columns generated\n",
    "train.select('features','Time Bucket', 'rawPrediction', 'probability', 'prediction').show(n = 50)"
   ]
  },
  {
   "cell_type": "code",
   "execution_count": 52,
   "metadata": {},
   "outputs": [
    {
     "data": {
      "application/vnd.jupyter.widget-view+json": {
       "model_id": "740faeee1b4248c6959a3be1495a0702",
       "version_major": 2,
       "version_minor": 0
      },
      "text/plain": [
       "VBox()"
      ]
     },
     "metadata": {},
     "output_type": "display_data"
    },
    {
     "data": {
      "application/vnd.jupyter.widget-view+json": {
       "model_id": "",
       "version_major": 2,
       "version_minor": 0
      },
      "text/plain": [
       "FloatProgress(value=0.0, bar_style='info', description='Progress:', layout=Layout(height='25px', width='50%'),…"
      ]
     },
     "metadata": {},
     "output_type": "display_data"
    },
    {
     "name": "stdout",
     "output_type": "stream",
     "text": [
      "+----------+-------+\n",
      "|prediction|  count|\n",
      "+----------+-------+\n",
      "|       0.0| 100912|\n",
      "|       4.0|1921491|\n",
      "|       6.0| 503689|\n",
      "|       5.0| 115906|\n",
      "+----------+-------+\n",
      "\n",
      "+-----------+------+\n",
      "|Time Bucket| count|\n",
      "+-----------+------+\n",
      "|          1|356987|\n",
      "|          6|420160|\n",
      "|          3|153911|\n",
      "|          5|322350|\n",
      "|          4|568511|\n",
      "|          2|375247|\n",
      "|          0|444832|\n",
      "+-----------+------+"
     ]
    }
   ],
   "source": [
    "cat13 = lambda x: x.groupby(\"prediction\").count()\n",
    "descriptor_frame = cat13(train).show()\n",
    "cat13 = lambda x: x.groupby(\"Time Bucket\").count()\n",
    "descriptor_frame = cat13(train).show()"
   ]
  },
  {
   "cell_type": "code",
   "execution_count": null,
   "metadata": {},
   "outputs": [],
   "source": []
  }
 ],
 "metadata": {
  "kernelspec": {
   "display_name": "PySpark",
   "language": "",
   "name": "pysparkkernel"
  },
  "language_info": {
   "codemirror_mode": {
    "name": "python",
    "version": 2
   },
   "mimetype": "text/x-python",
   "name": "pyspark",
   "pygments_lexer": "python2"
  }
 },
 "nbformat": 4,
 "nbformat_minor": 4
}
